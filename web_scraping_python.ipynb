{
  "nbformat": 4,
  "nbformat_minor": 0,
  "metadata": {
    "colab": {
      "provenance": []
    },
    "kernelspec": {
      "name": "python3",
      "display_name": "Python 3"
    },
    "language_info": {
      "name": "python"
    }
  },
  "cells": [
    {
      "cell_type": "markdown",
      "source": [
        "**scraping table data from onepiece season 20 wikipedia**\n",
        "https://en.wikipedia.org/wiki/One_Piece_(season_20)"
      ],
      "metadata": {
        "id": "cS68gQVQ4xvC"
      }
    },
    {
      "cell_type": "markdown",
      "source": [
        "**Make a request**"
      ],
      "metadata": {
        "id": "EL_icZ7VpZ3j"
      }
    },
    {
      "cell_type": "code",
      "source": [
        "import requests\n",
        "\n",
        "#Make a get request\n",
        "r = requests.get('https://en.wikipedia.org/wiki/One_Piece_(season_20)')\n",
        "\n",
        "# print(r)\n",
        "# print(r.content)\n",
        ""
      ],
      "metadata": {
        "id": "aDPjKAv4pZFY"
      },
      "execution_count": 1,
      "outputs": []
    },
    {
      "cell_type": "code",
      "source": [
        "print(r.status_code)\n",
        "print(r.url)"
      ],
      "metadata": {
        "colab": {
          "base_uri": "https://localhost:8080/"
        },
        "id": "NUmxsK6oqLHh",
        "outputId": "554ef34b-d614-46d2-8931-900e1f21e17e"
      },
      "execution_count": 2,
      "outputs": [
        {
          "output_type": "stream",
          "name": "stdout",
          "text": [
            "200\n",
            "https://en.wikipedia.org/wiki/One_Piece_(season_20)\n"
          ]
        }
      ]
    },
    {
      "cell_type": "markdown",
      "source": [
        "**Beautiful soup Library**"
      ],
      "metadata": {
        "id": "hn0ZHId1pY9d"
      }
    },
    {
      "cell_type": "code",
      "execution_count": 7,
      "metadata": {
        "id": "yD_Vf2i1osin"
      },
      "outputs": [],
      "source": [
        "#It provides a parse tree and the functions to navigate, search or modify this parse tree\n",
        "from bs4 import BeautifulSoup as bs\n",
        "\n",
        "soup = bs(r.content,'html.parser')\n",
        "# print(soup.prettify)"
      ]
    },
    {
      "cell_type": "code",
      "source": [
        "print(soup.title)\n",
        "print(soup.title.name)\n",
        "print(soup.title.parent.name)"
      ],
      "metadata": {
        "colab": {
          "base_uri": "https://localhost:8080/"
        },
        "id": "X1Phn9Ybq_Dr",
        "outputId": "1fcca4a4-4a45-4e85-fa01-4d63bead2245"
      },
      "execution_count": 8,
      "outputs": [
        {
          "output_type": "stream",
          "name": "stdout",
          "text": [
            "<title>One Piece (season 20) - Wikipedia</title>\n",
            "title\n",
            "head\n"
          ]
        }
      ]
    },
    {
      "cell_type": "markdown",
      "source": [
        "**Finding elements by class**"
      ],
      "metadata": {
        "id": "G5dak7FqsCoj"
      }
    },
    {
      "cell_type": "code",
      "source": [
        "s = soup.find('table', class_='wikitable plainrowheaders wikiepisodetable')\n",
        "content = s.find_all('th')\n",
        "# print(content)"
      ],
      "metadata": {
        "id": "97BTPvV_rKgo"
      },
      "execution_count": 9,
      "outputs": []
    },
    {
      "cell_type": "markdown",
      "source": [
        "**Finding elements by Id**"
      ],
      "metadata": {
        "id": "nf7mlf8ssyVm"
      }
    },
    {
      "cell_type": "code",
      "source": [
        "s = soup.find('div', id='mw-content-text')\n",
        "s = s.find('table', class_='wikitable plainrowheaders wikiepisodetable')\n",
        "content = s.find_all('th')\n",
        "# print(content)"
      ],
      "metadata": {
        "id": "c7YhE_j6staP"
      },
      "execution_count": 11,
      "outputs": []
    },
    {
      "cell_type": "markdown",
      "source": [
        "**Extracting texts from tags**"
      ],
      "metadata": {
        "id": "ZN0wdqk0u2QN"
      }
    },
    {
      "cell_type": "code",
      "source": [
        "header = []\n",
        "for line in content:\n",
        "  #print(line.text)\n",
        "  header.append(line.text)\n",
        "\n",
        "headers = header[1:7]\n",
        "headers\n",
        ""
      ],
      "metadata": {
        "colab": {
          "base_uri": "https://localhost:8080/"
        },
        "id": "3gOqYouxu1CK",
        "outputId": "17f47cdd-ff8d-47cf-b330-5f9263e31c7c"
      },
      "execution_count": 12,
      "outputs": [
        {
          "output_type": "execute_result",
          "data": {
            "text/plain": [
              "['No. inseason',\n",
              " 'Title\\u200a[n 2]',\n",
              " 'Directed by',\n",
              " 'Written by',\n",
              " 'Animation directed by',\n",
              " 'Original air date\\u200a[n 3]']"
            ]
          },
          "metadata": {},
          "execution_count": 12
        }
      ]
    },
    {
      "cell_type": "code",
      "source": [
        "import pandas as pd\n",
        "df = pd.DataFrame(columns = headers)\n",
        "\n",
        "i =0\n",
        "for j in s.find_all('tr')[1:]:\n",
        "  row_data = j.find_all('td')\n",
        "  row = [k.text for k in row_data]\n",
        "  if(len(row)!=len(headers)):\n",
        "    continue\n",
        "  df.loc[i] = row\n",
        "  i += 1"
      ],
      "metadata": {
        "id": "aPCl7H86t1W9"
      },
      "execution_count": 13,
      "outputs": []
    },
    {
      "cell_type": "code",
      "source": [
        "df.head()"
      ],
      "metadata": {
        "colab": {
          "base_uri": "https://localhost:8080/",
          "height": 206
        },
        "id": "K0wmQhhM1j2Q",
        "outputId": "2db0140c-e6f3-42d0-91cb-0e416a143f6d"
      },
      "execution_count": 14,
      "outputs": [
        {
          "output_type": "execute_result",
          "data": {
            "text/plain": [
              "  No. inseason                                        Title [n 2]  \\\n",
              "0            1  \"The Land of Wano! To the Samurai Country wher...   \n",
              "1            2  \"Otama Appears! Luffy vs. Kaido's Army!\"Transc...   \n",
              "2            3  \"He'll Come! The Legend of Ace in the Land of ...   \n",
              "3            4  \"Side Story! The World's Greatest Bounty Hunte...   \n",
              "4            5  \"Side Story! Clash! Luffy vs. the King of Carb...   \n",
              "\n",
              "        Directed by        Written by             Animation directed by  \\\n",
              "0  Tatsuya Nagamine    Shōji Yonemura                    Midori Matsuda   \n",
              "1      Kōhei Kureta  Atsuhiro Tomioka                       Shuichi Ito   \n",
              "2        Aya Komaki    Hitoshi Tanaka  Yusuke Isouchi & Yukiko Nakatani   \n",
              "3  Yutaka Nakashima  Atsuhiro Tomioka                 Masahiro Kitazaki   \n",
              "4  Yutaka Nakashima  Atsuhiro Tomioka                Shigefumi Shingaki   \n",
              "\n",
              "       Original air date [n 3]  \n",
              "0    July 7, 2019 (2019-07-07)  \n",
              "1   July 14, 2019 (2019-07-14)  \n",
              "2   July 21, 2019 (2019-07-21)  \n",
              "3   July 28, 2019 (2019-07-28)  \n",
              "4  August 4, 2019 (2019-08-04)  "
            ],
            "text/html": [
              "\n",
              "  <div id=\"df-209d58c4-4a6c-4396-b7c9-7044b5224a3f\">\n",
              "    <div class=\"colab-df-container\">\n",
              "      <div>\n",
              "<style scoped>\n",
              "    .dataframe tbody tr th:only-of-type {\n",
              "        vertical-align: middle;\n",
              "    }\n",
              "\n",
              "    .dataframe tbody tr th {\n",
              "        vertical-align: top;\n",
              "    }\n",
              "\n",
              "    .dataframe thead th {\n",
              "        text-align: right;\n",
              "    }\n",
              "</style>\n",
              "<table border=\"1\" class=\"dataframe\">\n",
              "  <thead>\n",
              "    <tr style=\"text-align: right;\">\n",
              "      <th></th>\n",
              "      <th>No. inseason</th>\n",
              "      <th>Title [n 2]</th>\n",
              "      <th>Directed by</th>\n",
              "      <th>Written by</th>\n",
              "      <th>Animation directed by</th>\n",
              "      <th>Original air date [n 3]</th>\n",
              "    </tr>\n",
              "  </thead>\n",
              "  <tbody>\n",
              "    <tr>\n",
              "      <th>0</th>\n",
              "      <td>1</td>\n",
              "      <td>\"The Land of Wano! To the Samurai Country wher...</td>\n",
              "      <td>Tatsuya Nagamine</td>\n",
              "      <td>Shōji Yonemura</td>\n",
              "      <td>Midori Matsuda</td>\n",
              "      <td>July 7, 2019 (2019-07-07)</td>\n",
              "    </tr>\n",
              "    <tr>\n",
              "      <th>1</th>\n",
              "      <td>2</td>\n",
              "      <td>\"Otama Appears! Luffy vs. Kaido's Army!\"Transc...</td>\n",
              "      <td>Kōhei Kureta</td>\n",
              "      <td>Atsuhiro Tomioka</td>\n",
              "      <td>Shuichi Ito</td>\n",
              "      <td>July 14, 2019 (2019-07-14)</td>\n",
              "    </tr>\n",
              "    <tr>\n",
              "      <th>2</th>\n",
              "      <td>3</td>\n",
              "      <td>\"He'll Come! The Legend of Ace in the Land of ...</td>\n",
              "      <td>Aya Komaki</td>\n",
              "      <td>Hitoshi Tanaka</td>\n",
              "      <td>Yusuke Isouchi &amp; Yukiko Nakatani</td>\n",
              "      <td>July 21, 2019 (2019-07-21)</td>\n",
              "    </tr>\n",
              "    <tr>\n",
              "      <th>3</th>\n",
              "      <td>4</td>\n",
              "      <td>\"Side Story! The World's Greatest Bounty Hunte...</td>\n",
              "      <td>Yutaka Nakashima</td>\n",
              "      <td>Atsuhiro Tomioka</td>\n",
              "      <td>Masahiro Kitazaki</td>\n",
              "      <td>July 28, 2019 (2019-07-28)</td>\n",
              "    </tr>\n",
              "    <tr>\n",
              "      <th>4</th>\n",
              "      <td>5</td>\n",
              "      <td>\"Side Story! Clash! Luffy vs. the King of Carb...</td>\n",
              "      <td>Yutaka Nakashima</td>\n",
              "      <td>Atsuhiro Tomioka</td>\n",
              "      <td>Shigefumi Shingaki</td>\n",
              "      <td>August 4, 2019 (2019-08-04)</td>\n",
              "    </tr>\n",
              "  </tbody>\n",
              "</table>\n",
              "</div>\n",
              "      <button class=\"colab-df-convert\" onclick=\"convertToInteractive('df-209d58c4-4a6c-4396-b7c9-7044b5224a3f')\"\n",
              "              title=\"Convert this dataframe to an interactive table.\"\n",
              "              style=\"display:none;\">\n",
              "        \n",
              "  <svg xmlns=\"http://www.w3.org/2000/svg\" height=\"24px\"viewBox=\"0 0 24 24\"\n",
              "       width=\"24px\">\n",
              "    <path d=\"M0 0h24v24H0V0z\" fill=\"none\"/>\n",
              "    <path d=\"M18.56 5.44l.94 2.06.94-2.06 2.06-.94-2.06-.94-.94-2.06-.94 2.06-2.06.94zm-11 1L8.5 8.5l.94-2.06 2.06-.94-2.06-.94L8.5 2.5l-.94 2.06-2.06.94zm10 10l.94 2.06.94-2.06 2.06-.94-2.06-.94-.94-2.06-.94 2.06-2.06.94z\"/><path d=\"M17.41 7.96l-1.37-1.37c-.4-.4-.92-.59-1.43-.59-.52 0-1.04.2-1.43.59L10.3 9.45l-7.72 7.72c-.78.78-.78 2.05 0 2.83L4 21.41c.39.39.9.59 1.41.59.51 0 1.02-.2 1.41-.59l7.78-7.78 2.81-2.81c.8-.78.8-2.07 0-2.86zM5.41 20L4 18.59l7.72-7.72 1.47 1.35L5.41 20z\"/>\n",
              "  </svg>\n",
              "      </button>\n",
              "      \n",
              "  <style>\n",
              "    .colab-df-container {\n",
              "      display:flex;\n",
              "      flex-wrap:wrap;\n",
              "      gap: 12px;\n",
              "    }\n",
              "\n",
              "    .colab-df-convert {\n",
              "      background-color: #E8F0FE;\n",
              "      border: none;\n",
              "      border-radius: 50%;\n",
              "      cursor: pointer;\n",
              "      display: none;\n",
              "      fill: #1967D2;\n",
              "      height: 32px;\n",
              "      padding: 0 0 0 0;\n",
              "      width: 32px;\n",
              "    }\n",
              "\n",
              "    .colab-df-convert:hover {\n",
              "      background-color: #E2EBFA;\n",
              "      box-shadow: 0px 1px 2px rgba(60, 64, 67, 0.3), 0px 1px 3px 1px rgba(60, 64, 67, 0.15);\n",
              "      fill: #174EA6;\n",
              "    }\n",
              "\n",
              "    [theme=dark] .colab-df-convert {\n",
              "      background-color: #3B4455;\n",
              "      fill: #D2E3FC;\n",
              "    }\n",
              "\n",
              "    [theme=dark] .colab-df-convert:hover {\n",
              "      background-color: #434B5C;\n",
              "      box-shadow: 0px 1px 3px 1px rgba(0, 0, 0, 0.15);\n",
              "      filter: drop-shadow(0px 1px 2px rgba(0, 0, 0, 0.3));\n",
              "      fill: #FFFFFF;\n",
              "    }\n",
              "  </style>\n",
              "\n",
              "      <script>\n",
              "        const buttonEl =\n",
              "          document.querySelector('#df-209d58c4-4a6c-4396-b7c9-7044b5224a3f button.colab-df-convert');\n",
              "        buttonEl.style.display =\n",
              "          google.colab.kernel.accessAllowed ? 'block' : 'none';\n",
              "\n",
              "        async function convertToInteractive(key) {\n",
              "          const element = document.querySelector('#df-209d58c4-4a6c-4396-b7c9-7044b5224a3f');\n",
              "          const dataTable =\n",
              "            await google.colab.kernel.invokeFunction('convertToInteractive',\n",
              "                                                     [key], {});\n",
              "          if (!dataTable) return;\n",
              "\n",
              "          const docLinkHtml = 'Like what you see? Visit the ' +\n",
              "            '<a target=\"_blank\" href=https://colab.research.google.com/notebooks/data_table.ipynb>data table notebook</a>'\n",
              "            + ' to learn more about interactive tables.';\n",
              "          element.innerHTML = '';\n",
              "          dataTable['output_type'] = 'display_data';\n",
              "          await google.colab.output.renderOutput(dataTable, element);\n",
              "          const docLink = document.createElement('div');\n",
              "          docLink.innerHTML = docLinkHtml;\n",
              "          element.appendChild(docLink);\n",
              "        }\n",
              "      </script>\n",
              "    </div>\n",
              "  </div>\n",
              "  "
            ]
          },
          "metadata": {},
          "execution_count": 14
        }
      ]
    },
    {
      "cell_type": "code",
      "source": [
        "df.shape"
      ],
      "metadata": {
        "colab": {
          "base_uri": "https://localhost:8080/"
        },
        "id": "5qE36Z584JG6",
        "outputId": "5297d15f-243a-4278-aa8c-bba61b1957e4"
      },
      "execution_count": 15,
      "outputs": [
        {
          "output_type": "execute_result",
          "data": {
            "text/plain": [
              "(177, 6)"
            ]
          },
          "metadata": {},
          "execution_count": 15
        }
      ]
    },
    {
      "cell_type": "code",
      "source": [
        "df.tail()"
      ],
      "metadata": {
        "id": "6174axsN4rpK",
        "colab": {
          "base_uri": "https://localhost:8080/",
          "height": 354
        },
        "outputId": "a9d0d48c-33b5-4716-d373-4191a7a94f0f"
      },
      "execution_count": 16,
      "outputs": [
        {
          "output_type": "execute_result",
          "data": {
            "text/plain": [
              "    No. inseason                                        Title [n 2]  \\\n",
              "172          173  \"Drunken Dragon Bagua! The Lawless Dragon Clos...   \n",
              "173          174  \"The Destruction of the Alliance?! Fire up, th...   \n",
              "174          175  \"Here Comes Main Act! Powerful Techniques of S...   \n",
              "175          176  \"Towards A New Era! Conclusion! The Brats' Res...   \n",
              "176          177  \"Moon Princess Echoes! Wano Country's Final Ph...   \n",
              "\n",
              "                                           Directed by        Written by  \\\n",
              "172                                     Katsumi Tokoro      Ryo Yamazaki   \n",
              "173                                       Hazuki Omoya  Atsuhiro Tomioka   \n",
              "174                                      Henry Thurlow       Akiko Inoue   \n",
              "175                                  Kenichi Takeshita     Shinzō Fujita   \n",
              "176  Directed by : Shō MatsuiStoryboard by : Yutaka...    Hitoshi Tanaka   \n",
              "\n",
              "                   Animation directed by     Original air date [n 3]  \n",
              "172                        Kazuya Hisada   June 4, 2023 (2023-06-04)  \n",
              "173    Shigefumi Shingaki & Kimitaka Itō  June 11, 2023 (2023-06-11)  \n",
              "174                    Masahiro Kitazaki  June 25, 2023 (2023-06-25)  \n",
              "175                       Kenji Yokoyama   July 2, 2023 (2023-07-02)  \n",
              "176  Masahiro Shimanuki & Toshio Deguchi   July 9, 2023 (2023-07-09)  "
            ],
            "text/html": [
              "\n",
              "  <div id=\"df-2ee4fb54-8455-454a-9cef-c6588dfdeef1\">\n",
              "    <div class=\"colab-df-container\">\n",
              "      <div>\n",
              "<style scoped>\n",
              "    .dataframe tbody tr th:only-of-type {\n",
              "        vertical-align: middle;\n",
              "    }\n",
              "\n",
              "    .dataframe tbody tr th {\n",
              "        vertical-align: top;\n",
              "    }\n",
              "\n",
              "    .dataframe thead th {\n",
              "        text-align: right;\n",
              "    }\n",
              "</style>\n",
              "<table border=\"1\" class=\"dataframe\">\n",
              "  <thead>\n",
              "    <tr style=\"text-align: right;\">\n",
              "      <th></th>\n",
              "      <th>No. inseason</th>\n",
              "      <th>Title [n 2]</th>\n",
              "      <th>Directed by</th>\n",
              "      <th>Written by</th>\n",
              "      <th>Animation directed by</th>\n",
              "      <th>Original air date [n 3]</th>\n",
              "    </tr>\n",
              "  </thead>\n",
              "  <tbody>\n",
              "    <tr>\n",
              "      <th>172</th>\n",
              "      <td>173</td>\n",
              "      <td>\"Drunken Dragon Bagua! The Lawless Dragon Clos...</td>\n",
              "      <td>Katsumi Tokoro</td>\n",
              "      <td>Ryo Yamazaki</td>\n",
              "      <td>Kazuya Hisada</td>\n",
              "      <td>June 4, 2023 (2023-06-04)</td>\n",
              "    </tr>\n",
              "    <tr>\n",
              "      <th>173</th>\n",
              "      <td>174</td>\n",
              "      <td>\"The Destruction of the Alliance?! Fire up, th...</td>\n",
              "      <td>Hazuki Omoya</td>\n",
              "      <td>Atsuhiro Tomioka</td>\n",
              "      <td>Shigefumi Shingaki &amp; Kimitaka Itō</td>\n",
              "      <td>June 11, 2023 (2023-06-11)</td>\n",
              "    </tr>\n",
              "    <tr>\n",
              "      <th>174</th>\n",
              "      <td>175</td>\n",
              "      <td>\"Here Comes Main Act! Powerful Techniques of S...</td>\n",
              "      <td>Henry Thurlow</td>\n",
              "      <td>Akiko Inoue</td>\n",
              "      <td>Masahiro Kitazaki</td>\n",
              "      <td>June 25, 2023 (2023-06-25)</td>\n",
              "    </tr>\n",
              "    <tr>\n",
              "      <th>175</th>\n",
              "      <td>176</td>\n",
              "      <td>\"Towards A New Era! Conclusion! The Brats' Res...</td>\n",
              "      <td>Kenichi Takeshita</td>\n",
              "      <td>Shinzō Fujita</td>\n",
              "      <td>Kenji Yokoyama</td>\n",
              "      <td>July 2, 2023 (2023-07-02)</td>\n",
              "    </tr>\n",
              "    <tr>\n",
              "      <th>176</th>\n",
              "      <td>177</td>\n",
              "      <td>\"Moon Princess Echoes! Wano Country's Final Ph...</td>\n",
              "      <td>Directed by : Shō MatsuiStoryboard by : Yutaka...</td>\n",
              "      <td>Hitoshi Tanaka</td>\n",
              "      <td>Masahiro Shimanuki &amp; Toshio Deguchi</td>\n",
              "      <td>July 9, 2023 (2023-07-09)</td>\n",
              "    </tr>\n",
              "  </tbody>\n",
              "</table>\n",
              "</div>\n",
              "      <button class=\"colab-df-convert\" onclick=\"convertToInteractive('df-2ee4fb54-8455-454a-9cef-c6588dfdeef1')\"\n",
              "              title=\"Convert this dataframe to an interactive table.\"\n",
              "              style=\"display:none;\">\n",
              "        \n",
              "  <svg xmlns=\"http://www.w3.org/2000/svg\" height=\"24px\"viewBox=\"0 0 24 24\"\n",
              "       width=\"24px\">\n",
              "    <path d=\"M0 0h24v24H0V0z\" fill=\"none\"/>\n",
              "    <path d=\"M18.56 5.44l.94 2.06.94-2.06 2.06-.94-2.06-.94-.94-2.06-.94 2.06-2.06.94zm-11 1L8.5 8.5l.94-2.06 2.06-.94-2.06-.94L8.5 2.5l-.94 2.06-2.06.94zm10 10l.94 2.06.94-2.06 2.06-.94-2.06-.94-.94-2.06-.94 2.06-2.06.94z\"/><path d=\"M17.41 7.96l-1.37-1.37c-.4-.4-.92-.59-1.43-.59-.52 0-1.04.2-1.43.59L10.3 9.45l-7.72 7.72c-.78.78-.78 2.05 0 2.83L4 21.41c.39.39.9.59 1.41.59.51 0 1.02-.2 1.41-.59l7.78-7.78 2.81-2.81c.8-.78.8-2.07 0-2.86zM5.41 20L4 18.59l7.72-7.72 1.47 1.35L5.41 20z\"/>\n",
              "  </svg>\n",
              "      </button>\n",
              "      \n",
              "  <style>\n",
              "    .colab-df-container {\n",
              "      display:flex;\n",
              "      flex-wrap:wrap;\n",
              "      gap: 12px;\n",
              "    }\n",
              "\n",
              "    .colab-df-convert {\n",
              "      background-color: #E8F0FE;\n",
              "      border: none;\n",
              "      border-radius: 50%;\n",
              "      cursor: pointer;\n",
              "      display: none;\n",
              "      fill: #1967D2;\n",
              "      height: 32px;\n",
              "      padding: 0 0 0 0;\n",
              "      width: 32px;\n",
              "    }\n",
              "\n",
              "    .colab-df-convert:hover {\n",
              "      background-color: #E2EBFA;\n",
              "      box-shadow: 0px 1px 2px rgba(60, 64, 67, 0.3), 0px 1px 3px 1px rgba(60, 64, 67, 0.15);\n",
              "      fill: #174EA6;\n",
              "    }\n",
              "\n",
              "    [theme=dark] .colab-df-convert {\n",
              "      background-color: #3B4455;\n",
              "      fill: #D2E3FC;\n",
              "    }\n",
              "\n",
              "    [theme=dark] .colab-df-convert:hover {\n",
              "      background-color: #434B5C;\n",
              "      box-shadow: 0px 1px 3px 1px rgba(0, 0, 0, 0.15);\n",
              "      filter: drop-shadow(0px 1px 2px rgba(0, 0, 0, 0.3));\n",
              "      fill: #FFFFFF;\n",
              "    }\n",
              "  </style>\n",
              "\n",
              "      <script>\n",
              "        const buttonEl =\n",
              "          document.querySelector('#df-2ee4fb54-8455-454a-9cef-c6588dfdeef1 button.colab-df-convert');\n",
              "        buttonEl.style.display =\n",
              "          google.colab.kernel.accessAllowed ? 'block' : 'none';\n",
              "\n",
              "        async function convertToInteractive(key) {\n",
              "          const element = document.querySelector('#df-2ee4fb54-8455-454a-9cef-c6588dfdeef1');\n",
              "          const dataTable =\n",
              "            await google.colab.kernel.invokeFunction('convertToInteractive',\n",
              "                                                     [key], {});\n",
              "          if (!dataTable) return;\n",
              "\n",
              "          const docLinkHtml = 'Like what you see? Visit the ' +\n",
              "            '<a target=\"_blank\" href=https://colab.research.google.com/notebooks/data_table.ipynb>data table notebook</a>'\n",
              "            + ' to learn more about interactive tables.';\n",
              "          element.innerHTML = '';\n",
              "          dataTable['output_type'] = 'display_data';\n",
              "          await google.colab.output.renderOutput(dataTable, element);\n",
              "          const docLink = document.createElement('div');\n",
              "          docLink.innerHTML = docLinkHtml;\n",
              "          element.appendChild(docLink);\n",
              "        }\n",
              "      </script>\n",
              "    </div>\n",
              "  </div>\n",
              "  "
            ]
          },
          "metadata": {},
          "execution_count": 16
        }
      ]
    },
    {
      "cell_type": "code",
      "source": [],
      "metadata": {
        "id": "rLOxuTq-DdtB"
      },
      "execution_count": null,
      "outputs": []
    }
  ]
}